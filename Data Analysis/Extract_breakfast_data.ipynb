{
 "cells": [
  {
   "cell_type": "code",
   "execution_count": 1,
   "id": "6f30cba7",
   "metadata": {},
   "outputs": [
    {
     "name": "stdout",
     "output_type": "stream",
     "text": [
      "Collecting recipe-scrapers\r\n",
      "  Downloading recipe_scrapers-13.5.0-py3-none-any.whl (333 kB)\r\n",
      "\u001B[K     |████████████████████████████████| 333 kB 560 kB/s eta 0:00:01\r\n",
      "\u001B[?25hRequirement already satisfied: requests>=2.19.1 in /usr/lib/python3/dist-packages (from recipe-scrapers) (2.22.0)\r\n",
      "Collecting beautifulsoup4>=4.6.0\r\n",
      "  Downloading beautifulsoup4-4.10.0-py3-none-any.whl (97 kB)\r\n",
      "\u001B[K     |████████████████████████████████| 97 kB 32 kB/s eta 0:00:011\r\n",
      "\u001B[?25hCollecting extruct>=0.8.0\r\n",
      "  Downloading extruct-0.13.0-py2.py3-none-any.whl (25 kB)\r\n",
      "Collecting soupsieve>1.2\r\n",
      "  Downloading soupsieve-2.2.1-py3-none-any.whl (33 kB)\r\n",
      "Collecting rdflib\r\n",
      "  Using cached rdflib-6.0.2-py3-none-any.whl (407 kB)\r\n",
      "Collecting pyrdfa3\r\n",
      "  Downloading pyRdfa3-3.5.3-py3-none-any.whl (121 kB)\r\n",
      "\u001B[K     |████████████████████████████████| 121 kB 709 kB/s eta 0:00:01\r\n",
      "\u001B[?25hCollecting jstyleson\r\n",
      "  Downloading jstyleson-0.0.2.tar.gz (2.0 kB)\r\n",
      "Collecting lxml\r\n",
      "  Using cached lxml-4.6.3-cp38-cp38-manylinux2014_x86_64.whl (6.8 MB)\r\n",
      "Collecting rdflib-jsonld\r\n",
      "  Downloading rdflib_jsonld-0.6.2-py2.py3-none-any.whl (4.0 kB)\r\n",
      "Collecting w3lib\r\n",
      "  Downloading w3lib-1.22.0-py2.py3-none-any.whl (20 kB)\r\n",
      "Collecting mf2py\r\n",
      "  Downloading mf2py-1.1.2.tar.gz (25 kB)\r\n",
      "Collecting html-text>=0.5.1\r\n",
      "  Downloading html_text-0.5.2-py2.py3-none-any.whl (7.5 kB)\r\n",
      "Requirement already satisfied: six in /usr/lib/python3/dist-packages (from extruct>=0.8.0->recipe-scrapers) (1.14.0)\r\n",
      "Collecting isodate\r\n",
      "  Using cached isodate-0.6.0-py2.py3-none-any.whl (45 kB)\r\n",
      "Requirement already satisfied: pyparsing in /usr/lib/python3/dist-packages (from rdflib->extruct>=0.8.0->recipe-scrapers) (2.4.6)\r\n",
      "Requirement already satisfied: setuptools in /usr/lib/python3/dist-packages (from rdflib->extruct>=0.8.0->recipe-scrapers) (45.2.0)\r\n",
      "Collecting html5lib\r\n",
      "  Downloading html5lib-1.1-py2.py3-none-any.whl (112 kB)\r\n",
      "\u001B[K     |████████████████████████████████| 112 kB 94 kB/s eta 0:00:01\r\n",
      "\u001B[?25hRequirement already satisfied: webencodings in /home/ashvinee/.local/lib/python3.8/site-packages (from html5lib->pyrdfa3->extruct>=0.8.0->recipe-scrapers) (0.5.1)\r\n",
      "Building wheels for collected packages: jstyleson, mf2py\r\n",
      "  Building wheel for jstyleson (setup.py) ... \u001B[?25l-\b \bdone\r\n",
      "\u001B[?25h  Created wheel for jstyleson: filename=jstyleson-0.0.2-py3-none-any.whl size=2401 sha256=6e9f31bd80afd2878206d26cffdf1e2172c2b629d2c8cf21834c5a91ebcc9987\r\n",
      "  Stored in directory: /home/ashvinee/.cache/pip/wheels/c6/3a/8e/dad087c08bb0e4c94d03433ccc0972ee29707dff8e6c5f5e1b\r\n",
      "  Building wheel for mf2py (setup.py) ... \u001B[?25l-\b \bdone\r\n",
      "\u001B[?25h  Created wheel for mf2py: filename=mf2py-1.1.2-py3-none-any.whl size=23243 sha256=e75b77f3d5bad5a01d3bed47a268caef158bc53640b25ecfdd739861ec418077\r\n",
      "  Stored in directory: /home/ashvinee/.cache/pip/wheels/34/86/25/8b1eee6d115e532e416f508dee0758d2093c9beb7923682924\r\n",
      "Successfully built jstyleson mf2py\r\n",
      "Installing collected packages: soupsieve, beautifulsoup4, isodate, rdflib, html5lib, pyrdfa3, jstyleson, lxml, rdflib-jsonld, w3lib, mf2py, html-text, extruct, recipe-scrapers\r\n",
      "Successfully installed beautifulsoup4-4.10.0 extruct-0.13.0 html-text-0.5.2 html5lib-1.1 isodate-0.6.0 jstyleson-0.0.2 lxml-4.6.3 mf2py-1.1.2 pyrdfa3-3.5.3 rdflib-6.0.2 rdflib-jsonld-0.6.2 recipe-scrapers-13.5.0 soupsieve-2.2.1 w3lib-1.22.0\r\n",
      "Collecting bs4\r\n",
      "  Downloading bs4-0.0.1.tar.gz (1.1 kB)\r\n",
      "Requirement already satisfied: beautifulsoup4 in /home/ashvinee/.local/lib/python3.8/site-packages (from bs4) (4.10.0)\r\n",
      "Requirement already satisfied: soupsieve>1.2 in /home/ashvinee/.local/lib/python3.8/site-packages (from beautifulsoup4->bs4) (2.2.1)\r\n",
      "Building wheels for collected packages: bs4\r\n",
      "  Building wheel for bs4 (setup.py) ... \u001B[?25l-\b \bdone\r\n",
      "\u001B[?25h  Created wheel for bs4: filename=bs4-0.0.1-py3-none-any.whl size=1272 sha256=e794b2d1fbacb37055a9f5a296e386778d9915e112defc581cdca1da3f6385c4\r\n",
      "  Stored in directory: /home/ashvinee/.cache/pip/wheels/75/78/21/68b124549c9bdc94f822c02fb9aa3578a669843f9767776bca\r\n",
      "Successfully built bs4\r\n",
      "Installing collected packages: bs4\r\n",
      "Successfully installed bs4-0.0.1\r\n",
      "Requirement already satisfied: requests in /usr/lib/python3/dist-packages (2.22.0)\r\n"
     ]
    }
   ],
   "source": [
    "!pip install recipe-scrapers\n",
    "!pip install bs4\n",
    "!pip install requests\n"
   ]
  },
  {
   "cell_type": "code",
   "execution_count": 1,
   "outputs": [],
   "source": [
    "import pandas as pd\n",
    "from recipe_scrapers import scrape_me\n",
    "import requests\n",
    "from bs4 import BeautifulSoup\n",
    "import tqdm\n",
    "import numpy as np\n",
    "import re\n",
    "import tqdm\n",
    "\n"
   ],
   "metadata": {
    "collapsed": false,
    "pycharm": {
     "name": "#%%\n"
    }
   }
  },
  {
   "cell_type": "code",
   "execution_count": 3,
   "outputs": [],
   "source": [
    "\n",
    "url = ['https://www.vegrecipesofindia.com/south-indian-breakfast-recipes/',\n",
    "       'https://www.thespruceeats.com/breakfast-brunch-4162826',\n",
    "       'https://themodernproper.com/50-best-breakfast-ideas',\n",
    "       'https://www.watchwhatueat.com/category/breakfast/',\n",
    "       'https://whatsgabycooking.com/10-easy-recipes-for-college-students/',\n",
    "       'https://www.vegolosi.it/ricette-vegane-semplici-veloci/hummus-alle-olive-e-capperi/',\n",
    "       'https://www.twopeasandtheirpod.com/category/recipes/breakfast-brunch/',\n",
    "       'https://sweetpeasandsaffron.com/category/meal-type/breakfast/',\n",
    "       'https://sweetpeasandsaffron.com/category/meal-type/breakfast/page/2/',\n",
    "       'https://sweetpeasandsaffron.com/category/meal-type/breakfast/page/3/',\n",
    "       'https://sweetpeasandsaffron.com/category/meal-type/breakfast/page/4/',\n",
    "       'https://sweetpeasandsaffron.com/category/meal-type/breakfast/page/5/',\n",
    "       'https://sweetpeasandsaffron.com/category/meal-type/breakfast/page/6/',\n",
    "       'https://sweetpeasandsaffron.com/category/meal-type/breakfast/page/7/',\n",
    "       'https://sweetpeasandsaffron.com/category/meal-type/breakfast/page/8/',\n",
    "       'https://sweetpeasandsaffron.com/category/meal-type/breakfast/page/9/',\n",
    "       'https://www.spendwithpennies.com/#search/q=breakfast&c=eyJ2IjoiNC4wIiwidGl0bGUiOiIiLCJncm91cFR5cGUiOiJ0b3AtcmVzdWx0cyIsImFycmFuZ2VtZW50IjoiY29udGV4dC13aXRob3V0LXNlYXJjaCIsIm9taXRTZWFyY2hDb250ZXh0Ijp0cnVlfQ%3D%3D',\n",
    "       'https://www.southernliving.com/breakfast',\n",
    "       'https://www.skinnytaste.com/?s=breakfast',\n",
    "       'https://www.simplywhisked.com/?s=breakfast',\n",
    "       'https://www.simplyquinoa.com/meal-type/breakfast/',\n",
    "       'https://www.seriouseats.com/search?q=breakfast',\n",
    "       'https://www.seriouseats.com/search?q=breakfast&offset=24',\n",
    "       'https://www.seriouseats.com/search?q=breakfast&offset=48',\n",
    "       'https://www.seriouseats.com/search?q=breakfast&offset=72',\n",
    "       'https://www.seriouseats.com/search?q=breakfast&offset=96',\n",
    "       'https://www.saveur.com/Southern-Breakfast-recipes/']\n"
   ],
   "metadata": {
    "collapsed": false,
    "pycharm": {
     "name": "#%%\n"
    }
   }
  },
  {
   "cell_type": "code",
   "execution_count": 4,
   "outputs": [],
   "source": [
    "#url = ['https://www.southernliving.com/breakfast?page='+str(i) for i in range(2,24)]\n",
    "#url = ['https://www.simplywhisked.com/page/'+str(i)+'/?s=breakfast' for i in range(2,10)]\n"
   ],
   "metadata": {
    "collapsed": false,
    "pycharm": {
     "name": "#%%\n"
    }
   }
  },
  {
   "cell_type": "code",
   "execution_count": 5,
   "outputs": [],
   "source": [
    "#url = ['https://www.skinnytaste.com/page/'+str(i)+'/?s=breakfast' for i in range(2,40)]\n"
   ],
   "metadata": {
    "collapsed": false,
    "pycharm": {
     "name": "#%%\n"
    }
   }
  },
  {
   "cell_type": "code",
   "execution_count": 6,
   "outputs": [],
   "source": [
    "#url = ['https://www.skinnytaste.com/page/'+str(i)+'/?s=breakfast' for i in range(41,79)]\n",
    "#url = ['https://www.simplyquinoa.com/meal-type/breakfast/page/'+str(i)+'/' for i in range(2,25)]\n"
   ],
   "metadata": {
    "collapsed": false,
    "pycharm": {
     "name": "#%%\n"
    }
   }
  },
  {
   "cell_type": "code",
   "execution_count": 7,
   "outputs": [
    {
     "data": {
      "text/plain": "27"
     },
     "execution_count": 7,
     "metadata": {},
     "output_type": "execute_result"
    }
   ],
   "source": [
    "len(url)\n"
   ],
   "metadata": {
    "collapsed": false,
    "pycharm": {
     "name": "#%%\n"
    }
   }
  },
  {
   "cell_type": "code",
   "execution_count": 8,
   "outputs": [
    {
     "name": "stderr",
     "output_type": "stream",
     "text": [
      "  4%|▎         | 1/27 [00:01<00:26,  1.02s/it]"
     ]
    },
    {
     "name": "stdout",
     "output_type": "stream",
     "text": [
      "https://www.vegrecipesofindia.com/   :   ( 202 ) 169\n"
     ]
    },
    {
     "name": "stderr",
     "output_type": "stream",
     "text": [
      "  7%|▋         | 2/27 [00:02<00:33,  1.33s/it]"
     ]
    },
    {
     "name": "stdout",
     "output_type": "stream",
     "text": [
      "https://www.thespruceeats.com/   :   ( 186 ) 167\n"
     ]
    },
    {
     "name": "stderr",
     "output_type": "stream",
     "text": [
      " 11%|█         | 3/27 [00:04<00:39,  1.63s/it]"
     ]
    },
    {
     "name": "stdout",
     "output_type": "stream",
     "text": [
      "https://themodernproper.com/   :   ( 79 ) 64\n"
     ]
    },
    {
     "name": "stderr",
     "output_type": "stream",
     "text": [
      " 15%|█▍        | 4/27 [00:16<02:11,  5.70s/it]"
     ]
    },
    {
     "name": "stdout",
     "output_type": "stream",
     "text": [
      "https://www.watchwhatueat.com/   :   ( 74 ) 61\n"
     ]
    },
    {
     "name": "stderr",
     "output_type": "stream",
     "text": [
      " 19%|█▊        | 5/27 [00:18<01:37,  4.44s/it]"
     ]
    },
    {
     "name": "stdout",
     "output_type": "stream",
     "text": [
      "https://whatsgabycooking.com/   :   ( 101 ) 65\n"
     ]
    },
    {
     "name": "stderr",
     "output_type": "stream",
     "text": [
      " 22%|██▏       | 6/27 [00:24<01:46,  5.06s/it]"
     ]
    },
    {
     "name": "stdout",
     "output_type": "stream",
     "text": [
      "https://www.vegolosi.it/   :   ( 196 ) 180\n"
     ]
    },
    {
     "name": "stderr",
     "output_type": "stream",
     "text": [
      " 26%|██▌       | 7/27 [00:31<01:50,  5.51s/it]"
     ]
    },
    {
     "name": "stdout",
     "output_type": "stream",
     "text": [
      "https://www.twopeasandtheirpod.com/   :   ( 112 ) 100\n"
     ]
    },
    {
     "name": "stderr",
     "output_type": "stream",
     "text": [
      " 30%|██▉       | 8/27 [00:32<01:19,  4.20s/it]"
     ]
    },
    {
     "name": "stdout",
     "output_type": "stream",
     "text": [
      "https://sweetpeasandsaffron.com/   :   ( 168 ) 145\n"
     ]
    },
    {
     "name": "stderr",
     "output_type": "stream",
     "text": [
      " 33%|███▎      | 9/27 [00:33<00:55,  3.08s/it]"
     ]
    },
    {
     "name": "stdout",
     "output_type": "stream",
     "text": [
      "https://sweetpeasandsaffron.com/   :   ( 113 ) 91\n"
     ]
    },
    {
     "name": "stderr",
     "output_type": "stream",
     "text": [
      " 37%|███▋      | 10/27 [00:34<00:40,  2.35s/it]"
     ]
    },
    {
     "name": "stdout",
     "output_type": "stream",
     "text": [
      "https://sweetpeasandsaffron.com/   :   ( 114 ) 92\n"
     ]
    },
    {
     "name": "stderr",
     "output_type": "stream",
     "text": [
      " 41%|████      | 11/27 [00:34<00:29,  1.85s/it]"
     ]
    },
    {
     "name": "stdout",
     "output_type": "stream",
     "text": [
      "https://sweetpeasandsaffron.com/   :   ( 115 ) 93\n"
     ]
    },
    {
     "name": "stderr",
     "output_type": "stream",
     "text": [
      " 44%|████▍     | 12/27 [00:35<00:22,  1.53s/it]"
     ]
    },
    {
     "name": "stdout",
     "output_type": "stream",
     "text": [
      "https://sweetpeasandsaffron.com/   :   ( 115 ) 93\n"
     ]
    },
    {
     "name": "stderr",
     "output_type": "stream",
     "text": [
      " 48%|████▊     | 13/27 [00:36<00:18,  1.31s/it]"
     ]
    },
    {
     "name": "stdout",
     "output_type": "stream",
     "text": [
      "https://sweetpeasandsaffron.com/   :   ( 115 ) 93\n"
     ]
    },
    {
     "name": "stderr",
     "output_type": "stream",
     "text": [
      " 52%|█████▏    | 14/27 [00:37<00:14,  1.15s/it]"
     ]
    },
    {
     "name": "stdout",
     "output_type": "stream",
     "text": [
      "https://sweetpeasandsaffron.com/   :   ( 114 ) 92\n"
     ]
    },
    {
     "name": "stderr",
     "output_type": "stream",
     "text": [
      " 56%|█████▌    | 15/27 [00:38<00:12,  1.08s/it]"
     ]
    },
    {
     "name": "stdout",
     "output_type": "stream",
     "text": [
      "https://sweetpeasandsaffron.com/   :   ( 113 ) 91\n"
     ]
    },
    {
     "name": "stderr",
     "output_type": "stream",
     "text": [
      " 59%|█████▉    | 16/27 [00:39<00:11,  1.03s/it]"
     ]
    },
    {
     "name": "stdout",
     "output_type": "stream",
     "text": [
      "https://sweetpeasandsaffron.com/   :   ( 93 ) 71\n"
     ]
    },
    {
     "name": "stderr",
     "output_type": "stream",
     "text": [
      " 63%|██████▎   | 17/27 [00:41<00:15,  1.52s/it]"
     ]
    },
    {
     "name": "stdout",
     "output_type": "stream",
     "text": [
      "https://www.spendwithpennies.com/   :   ( 214 ) 195\n"
     ]
    },
    {
     "name": "stderr",
     "output_type": "stream",
     "text": [
      " 67%|██████▋   | 18/27 [00:44<00:18,  2.03s/it]"
     ]
    },
    {
     "name": "stdout",
     "output_type": "stream",
     "text": [
      "https://www.southernliving.com/   :   ( 266 ) 182\n"
     ]
    },
    {
     "name": "stderr",
     "output_type": "stream",
     "text": [
      " 70%|███████   | 19/27 [00:47<00:18,  2.27s/it]"
     ]
    },
    {
     "name": "stdout",
     "output_type": "stream",
     "text": [
      "https://www.skinnytaste.com/   :   ( 220 ) 174\n"
     ]
    },
    {
     "name": "stderr",
     "output_type": "stream",
     "text": [
      " 74%|███████▍  | 20/27 [00:51<00:19,  2.73s/it]"
     ]
    },
    {
     "name": "stdout",
     "output_type": "stream",
     "text": [
      "https://www.simplywhisked.com/   :   ( 65 ) 49\n"
     ]
    },
    {
     "name": "stderr",
     "output_type": "stream",
     "text": [
      " 78%|███████▊  | 21/27 [00:54<00:17,  2.91s/it]"
     ]
    },
    {
     "name": "stdout",
     "output_type": "stream",
     "text": [
      "https://www.simplyquinoa.com/   :   ( 216 ) 189\n"
     ]
    },
    {
     "name": "stderr",
     "output_type": "stream",
     "text": [
      " 81%|████████▏ | 22/27 [00:57<00:13,  2.71s/it]"
     ]
    },
    {
     "name": "stdout",
     "output_type": "stream",
     "text": [
      "https://www.seriouseats.com/   :   ( 121 ) 109\n"
     ]
    },
    {
     "name": "stderr",
     "output_type": "stream",
     "text": [
      " 85%|████████▌ | 23/27 [00:58<00:09,  2.35s/it]"
     ]
    },
    {
     "name": "stdout",
     "output_type": "stream",
     "text": [
      "https://www.seriouseats.com/   :   ( 122 ) 110\n"
     ]
    },
    {
     "name": "stderr",
     "output_type": "stream",
     "text": [
      " 89%|████████▉ | 24/27 [01:00<00:06,  2.19s/it]"
     ]
    },
    {
     "name": "stdout",
     "output_type": "stream",
     "text": [
      "https://www.seriouseats.com/   :   ( 122 ) 110\n"
     ]
    },
    {
     "name": "stderr",
     "output_type": "stream",
     "text": [
      " 93%|█████████▎| 25/27 [01:02<00:04,  2.12s/it]"
     ]
    },
    {
     "name": "stdout",
     "output_type": "stream",
     "text": [
      "https://www.seriouseats.com/   :   ( 122 ) 110\n"
     ]
    },
    {
     "name": "stderr",
     "output_type": "stream",
     "text": [
      " 96%|█████████▋| 26/27 [01:04<00:01,  1.96s/it]"
     ]
    },
    {
     "name": "stdout",
     "output_type": "stream",
     "text": [
      "https://www.seriouseats.com/   :   ( 121 ) 109\n"
     ]
    },
    {
     "name": "stderr",
     "output_type": "stream",
     "text": [
      "100%|██████████| 27/27 [01:05<00:00,  2.43s/it]"
     ]
    },
    {
     "name": "stdout",
     "output_type": "stream",
     "text": [
      "https://www.saveur.com/   :   ( 122 ) 65\n"
     ]
    },
    {
     "name": "stderr",
     "output_type": "stream",
     "text": [
      "\n"
     ]
    }
   ],
   "source": [
    "urls = []\n",
    "\n",
    "for infx in tqdm.tqdm(range(len(url))):\n",
    "  ul = url[infx]\n",
    "  clink=0\n",
    "  tlink=0\n",
    "  reqs = requests.get(ul)\n",
    "  soup = BeautifulSoup(reqs.text, 'html.parser')\n",
    "  for links in soup.find_all('a'):\n",
    "      link = links.get('href')\n",
    "      #print(link)\n",
    "      tlink+=1\n",
    "      if link is not None:\n",
    "        if link.split('/')[0] != 'https:':\n",
    "            link = '/'.join(ul.split('/')[:3]) + link\n",
    "      surl = '/'.join(ul.split('/')[:3])+'/'\n",
    "      if link is None:\n",
    "        continue\n",
    "      elif link.startswith(surl) and len(surl)+1<len(link):\n",
    "        #print(link)\n",
    "        clink+=1\n",
    "        urls.append(link)\n",
    "  print(surl,'  :  ','(',tlink,')',clink)\n",
    "\n"
   ],
   "metadata": {
    "collapsed": false,
    "pycharm": {
     "name": "#%%\n"
    }
   }
  },
  {
   "cell_type": "code",
   "execution_count": 9,
   "outputs": [
    {
     "data": {
      "text/plain": "3069"
     },
     "execution_count": 9,
     "metadata": {},
     "output_type": "execute_result"
    }
   ],
   "source": [
    "len(urls)\n",
    "\n"
   ],
   "metadata": {
    "collapsed": false,
    "pycharm": {
     "name": "#%%\n"
    }
   }
  },
  {
   "cell_type": "code",
   "execution_count": null,
   "outputs": [],
   "source": [
    "titles = []\n",
    "total_time = []\n",
    "yields = []\n",
    "ingredients = []\n",
    "instructions = []\n",
    "images = []\n",
    "host = []\n",
    "links = []\n",
    "nutrients = []\n",
    "\n",
    "for ind in tqdm.tqdm(range(len(urls))):\n",
    "  urr = urls[ind]\n",
    "  urlerr=0\n",
    "  reciperr=0\n",
    "  try:\n",
    "    scraper = scrape_me(urr, wild_mode=False)\n",
    "    try:\n",
    "      titles.append(scraper.title())\n",
    "      total_time.append(scraper.total_time())\n",
    "      yields.append(scraper.yields())\n",
    "      ingredients.append(scraper.ingredients())\n",
    "      instructions.append(scraper.instructions())\n",
    "      images.append(scraper.image())\n",
    "      host.append(scraper.host())\n",
    "      links.append(scraper.links())\n",
    "      nutrients.append(scraper.nutrients())  # if available\n",
    "    except:\n",
    "      reciperr+=1\n",
    "      continue\n",
    "  except:\n",
    "    urlerr+=1\n",
    "    continue\n",
    "\n"
   ],
   "metadata": {
    "collapsed": false,
    "pycharm": {
     "name": "#%%\n"
    }
   }
  },
  {
   "cell_type": "code",
   "execution_count": null,
   "outputs": [],
   "source": [
    "reciperr, urlerr\n",
    "\n"
   ],
   "metadata": {
    "collapsed": false,
    "pycharm": {
     "name": "#%%\n"
    }
   }
  },
  {
   "cell_type": "code",
   "execution_count": null,
   "outputs": [],
   "source": [
    "len(titles), len(total_time), len(yields), len(ingredients), len(instructions), len(images), len(host), len(links), len(nutrients)\n",
    "\n"
   ],
   "metadata": {
    "collapsed": false,
    "pycharm": {
     "name": "#%%\n"
    }
   }
  },
  {
   "cell_type": "code",
   "execution_count": null,
   "outputs": [],
   "source": [
    "lim = min(len(titles), len(ingredients))\n",
    "lim\n",
    "\n"
   ],
   "metadata": {
    "collapsed": false,
    "pycharm": {
     "name": "#%%\n"
    }
   }
  },
  {
   "cell_type": "code",
   "execution_count": null,
   "outputs": [],
   "source": [
    "data = {'Title': titles[:lim], 'Total_time': total_time[:lim], 'Yields': yields[:lim], 'Ingredients': ingredients[:lim], 'Instructions': instructions[:lim],\n",
    "        'Images': images[:lim], 'Host':host[:lim], 'Links': links[:lim]}\n",
    "\n"
   ],
   "metadata": {
    "collapsed": false,
    "pycharm": {
     "name": "#%%\n"
    }
   }
  },
  {
   "cell_type": "code",
   "execution_count": null,
   "outputs": [],
   "source": [
    "df = pd.DataFrame(data)\n",
    "df\n",
    "\n"
   ],
   "metadata": {
    "collapsed": false,
    "pycharm": {
     "name": "#%%\n"
    }
   }
  },
  {
   "cell_type": "code",
   "execution_count": null,
   "outputs": [],
   "source": [
    "df.to_csv('breakfast_ingredients_rest.csv')\n",
    "\n"
   ],
   "metadata": {
    "collapsed": false,
    "pycharm": {
     "name": "#%%\n"
    }
   }
  },
  {
   "cell_type": "markdown",
   "source": [
    "Creating ingredients\n",
    "\n"
   ],
   "metadata": {
    "collapsed": false
   }
  },
  {
   "cell_type": "code",
   "execution_count": 2,
   "outputs": [
    {
     "data": {
      "text/plain": "      Unnamed: 0                  In\n0              0                salt\n1              1              pepper\n2              2              butter\n3              3              garlic\n4              4               sugar\n...          ...                 ...\n3495        3495     poblano chilies\n3496        3496   crystal hot sauce\n3497        3497   watercress leaves\n3498        3498     emerils essence\n3499        3499  corn flakes cereal\n\n[3500 rows x 2 columns]",
      "text/html": "<div>\n<style scoped>\n    .dataframe tbody tr th:only-of-type {\n        vertical-align: middle;\n    }\n\n    .dataframe tbody tr th {\n        vertical-align: top;\n    }\n\n    .dataframe thead th {\n        text-align: right;\n    }\n</style>\n<table border=\"1\" class=\"dataframe\">\n  <thead>\n    <tr style=\"text-align: right;\">\n      <th></th>\n      <th>Unnamed: 0</th>\n      <th>In</th>\n    </tr>\n  </thead>\n  <tbody>\n    <tr>\n      <th>0</th>\n      <td>0</td>\n      <td>salt</td>\n    </tr>\n    <tr>\n      <th>1</th>\n      <td>1</td>\n      <td>pepper</td>\n    </tr>\n    <tr>\n      <th>2</th>\n      <td>2</td>\n      <td>butter</td>\n    </tr>\n    <tr>\n      <th>3</th>\n      <td>3</td>\n      <td>garlic</td>\n    </tr>\n    <tr>\n      <th>4</th>\n      <td>4</td>\n      <td>sugar</td>\n    </tr>\n    <tr>\n      <th>...</th>\n      <td>...</td>\n      <td>...</td>\n    </tr>\n    <tr>\n      <th>3495</th>\n      <td>3495</td>\n      <td>poblano chilies</td>\n    </tr>\n    <tr>\n      <th>3496</th>\n      <td>3496</td>\n      <td>crystal hot sauce</td>\n    </tr>\n    <tr>\n      <th>3497</th>\n      <td>3497</td>\n      <td>watercress leaves</td>\n    </tr>\n    <tr>\n      <th>3498</th>\n      <td>3498</td>\n      <td>emerils essence</td>\n    </tr>\n    <tr>\n      <th>3499</th>\n      <td>3499</td>\n      <td>corn flakes cereal</td>\n    </tr>\n  </tbody>\n</table>\n<p>3500 rows × 2 columns</p>\n</div>"
     },
     "execution_count": 2,
     "metadata": {},
     "output_type": "execute_result"
    }
   ],
   "source": [
    "df_all_ings = pd.read_csv('/home/ashvinee/Documents/Ferrato/Data/all_ingredients_name.csv')\n",
    "df_all_ings\n",
    "\n"
   ],
   "metadata": {
    "collapsed": false,
    "pycharm": {
     "name": "#%%\n"
    }
   }
  },
  {
   "cell_type": "code",
   "execution_count": 3,
   "outputs": [
    {
     "data": {
      "text/plain": "     Unnamed: 0                                    Title  Total_time  \\\n0             0  Idli Recipe | Idli Batter for Soft Idli         565   \n1             1                            Sambar Recipe          45   \n2             2                   Coconut Chutney Recipe          15   \n3             3  Idli Recipe | Idli Batter for Soft Idli         565   \n4             4                              Masala Dosa         570   \n..          ...                                      ...         ...   \n849         849            Air Fryer Frozen French Fries          60   \n850         850               Lemon Air Fryer Broccolini          60   \n851         851               Lemon Air Fryer Broccolini         482   \n852         852                 Air Fryer Chicken Thighs         482   \n853         853                 Air Fryer Chicken Thighs          40   \n\n            Yields                                        Ingredients  \\\n0    30 serving(s)  ['1 cup regular rice ( + 1 cup parboiled rice ...   \n1     4 serving(s)  ['1 tablespoon tamarind', '⅓ cup hot water', '...   \n2     3 serving(s)  ['½ cup fresh grated coconut ((tightly packed)...   \n3    30 serving(s)  ['1 cup regular rice ( + 1 cup parboiled rice ...   \n4    20 serving(s)  ['1.5 cups idli rice (- 330 grams, (parboiled ...   \n..             ...                                                ...   \n849     12 item(s)  ['2 cups self-rising flour', '4 tbsp. lard or ...   \n850   6 serving(s)  ['2 cups roughly chopped boiled red-skinned po...   \n851     15 item(s)  ['One 14-oz. sweet potato', '1 cup all-purpose...   \n852   4 serving(s)  ['1 Tbsp. salt', '2 cups coarse-ground grits',...   \n853     24 item(s)  ['3 1⁄2 sticks (14 oz.) very cold unsalted but...   \n\n                                          Instructions  \\\n0    Soaking rice and lentils\\nPick and rinse both ...   \n1    Making tamarind pulp\\nSoak the tamarind in hot...   \n2    Grinding Ingredients\\nTake the freshly grated ...   \n3    Soaking rice and lentils\\nPick and rinse both ...   \n4    Soaking rice and lentils\\nFirst take all the i...   \n..                                                 ...   \n849  Preheat the oven to 400°F degrees. Use a fork ...   \n850  For the grits: Bring 4 cups of salted water to...   \n851  Cut 3 ½ sticks (14 oz.) of the butter into ¼ i...   \n852  In a large bowl, combine the peaches, sugar, l...   \n853  In a small bowl, toss tomatoes, lime juice, ci...   \n\n                                                Images                   Host  \\\n0    https://www.vegrecipesofindia.com/wp-content/u...  vegrecipesofindia.com   \n1    https://www.vegrecipesofindia.com/wp-content/u...  vegrecipesofindia.com   \n2    https://www.vegrecipesofindia.com/wp-content/u...  vegrecipesofindia.com   \n3    https://www.vegrecipesofindia.com/wp-content/u...  vegrecipesofindia.com   \n4    https://www.vegrecipesofindia.com/wp-content/u...  vegrecipesofindia.com   \n..                                                 ...                    ...   \n849  https://www.saveur.com/app/uploads/2019/02/08/...             saveur.com   \n850  https://www.saveur.com/app/uploads/2019/03/18/...             saveur.com   \n851  https://www.saveur.com/app/uploads/2019/03/18/...             saveur.com   \n852  https://www.saveur.com/app/uploads/2019/02/08/...             saveur.com   \n853  https://www.saveur.com/app/uploads/2019/03/18/...             saveur.com   \n\n                                                 Links  \n0    [{'class': ['skip-link', 'screen-reader-text']...  \n1    [{'class': ['skip-link', 'screen-reader-text']...  \n2    [{'class': ['skip-link', 'screen-reader-text']...  \n3    [{'class': ['skip-link', 'screen-reader-text']...  \n4    [{'class': ['skip-link', 'screen-reader-text']...  \n..                                                 ...  \n849  [{'class': ['navbar-brand'], 'href': 'https://...  \n850  [{'class': ['navbar-brand'], 'href': 'https://...  \n851  [{'class': ['navbar-brand'], 'href': 'https://...  \n852  [{'class': ['navbar-brand'], 'href': 'https://...  \n853  [{'class': ['navbar-brand'], 'href': 'https://...  \n\n[854 rows x 9 columns]",
      "text/html": "<div>\n<style scoped>\n    .dataframe tbody tr th:only-of-type {\n        vertical-align: middle;\n    }\n\n    .dataframe tbody tr th {\n        vertical-align: top;\n    }\n\n    .dataframe thead th {\n        text-align: right;\n    }\n</style>\n<table border=\"1\" class=\"dataframe\">\n  <thead>\n    <tr style=\"text-align: right;\">\n      <th></th>\n      <th>Unnamed: 0</th>\n      <th>Title</th>\n      <th>Total_time</th>\n      <th>Yields</th>\n      <th>Ingredients</th>\n      <th>Instructions</th>\n      <th>Images</th>\n      <th>Host</th>\n      <th>Links</th>\n    </tr>\n  </thead>\n  <tbody>\n    <tr>\n      <th>0</th>\n      <td>0</td>\n      <td>Idli Recipe | Idli Batter for Soft Idli</td>\n      <td>565</td>\n      <td>30 serving(s)</td>\n      <td>['1 cup regular rice ( + 1 cup parboiled rice ...</td>\n      <td>Soaking rice and lentils\\nPick and rinse both ...</td>\n      <td>https://www.vegrecipesofindia.com/wp-content/u...</td>\n      <td>vegrecipesofindia.com</td>\n      <td>[{'class': ['skip-link', 'screen-reader-text']...</td>\n    </tr>\n    <tr>\n      <th>1</th>\n      <td>1</td>\n      <td>Sambar Recipe</td>\n      <td>45</td>\n      <td>4 serving(s)</td>\n      <td>['1 tablespoon tamarind', '⅓ cup hot water', '...</td>\n      <td>Making tamarind pulp\\nSoak the tamarind in hot...</td>\n      <td>https://www.vegrecipesofindia.com/wp-content/u...</td>\n      <td>vegrecipesofindia.com</td>\n      <td>[{'class': ['skip-link', 'screen-reader-text']...</td>\n    </tr>\n    <tr>\n      <th>2</th>\n      <td>2</td>\n      <td>Coconut Chutney Recipe</td>\n      <td>15</td>\n      <td>3 serving(s)</td>\n      <td>['½ cup fresh grated coconut ((tightly packed)...</td>\n      <td>Grinding Ingredients\\nTake the freshly grated ...</td>\n      <td>https://www.vegrecipesofindia.com/wp-content/u...</td>\n      <td>vegrecipesofindia.com</td>\n      <td>[{'class': ['skip-link', 'screen-reader-text']...</td>\n    </tr>\n    <tr>\n      <th>3</th>\n      <td>3</td>\n      <td>Idli Recipe | Idli Batter for Soft Idli</td>\n      <td>565</td>\n      <td>30 serving(s)</td>\n      <td>['1 cup regular rice ( + 1 cup parboiled rice ...</td>\n      <td>Soaking rice and lentils\\nPick and rinse both ...</td>\n      <td>https://www.vegrecipesofindia.com/wp-content/u...</td>\n      <td>vegrecipesofindia.com</td>\n      <td>[{'class': ['skip-link', 'screen-reader-text']...</td>\n    </tr>\n    <tr>\n      <th>4</th>\n      <td>4</td>\n      <td>Masala Dosa</td>\n      <td>570</td>\n      <td>20 serving(s)</td>\n      <td>['1.5 cups idli rice (- 330 grams, (parboiled ...</td>\n      <td>Soaking rice and lentils\\nFirst take all the i...</td>\n      <td>https://www.vegrecipesofindia.com/wp-content/u...</td>\n      <td>vegrecipesofindia.com</td>\n      <td>[{'class': ['skip-link', 'screen-reader-text']...</td>\n    </tr>\n    <tr>\n      <th>...</th>\n      <td>...</td>\n      <td>...</td>\n      <td>...</td>\n      <td>...</td>\n      <td>...</td>\n      <td>...</td>\n      <td>...</td>\n      <td>...</td>\n      <td>...</td>\n    </tr>\n    <tr>\n      <th>849</th>\n      <td>849</td>\n      <td>Air Fryer Frozen French Fries</td>\n      <td>60</td>\n      <td>12 item(s)</td>\n      <td>['2 cups self-rising flour', '4 tbsp. lard or ...</td>\n      <td>Preheat the oven to 400°F degrees. Use a fork ...</td>\n      <td>https://www.saveur.com/app/uploads/2019/02/08/...</td>\n      <td>saveur.com</td>\n      <td>[{'class': ['navbar-brand'], 'href': 'https://...</td>\n    </tr>\n    <tr>\n      <th>850</th>\n      <td>850</td>\n      <td>Lemon Air Fryer Broccolini</td>\n      <td>60</td>\n      <td>6 serving(s)</td>\n      <td>['2 cups roughly chopped boiled red-skinned po...</td>\n      <td>For the grits: Bring 4 cups of salted water to...</td>\n      <td>https://www.saveur.com/app/uploads/2019/03/18/...</td>\n      <td>saveur.com</td>\n      <td>[{'class': ['navbar-brand'], 'href': 'https://...</td>\n    </tr>\n    <tr>\n      <th>851</th>\n      <td>851</td>\n      <td>Lemon Air Fryer Broccolini</td>\n      <td>482</td>\n      <td>15 item(s)</td>\n      <td>['One 14-oz. sweet potato', '1 cup all-purpose...</td>\n      <td>Cut 3 ½ sticks (14 oz.) of the butter into ¼ i...</td>\n      <td>https://www.saveur.com/app/uploads/2019/03/18/...</td>\n      <td>saveur.com</td>\n      <td>[{'class': ['navbar-brand'], 'href': 'https://...</td>\n    </tr>\n    <tr>\n      <th>852</th>\n      <td>852</td>\n      <td>Air Fryer Chicken Thighs</td>\n      <td>482</td>\n      <td>4 serving(s)</td>\n      <td>['1 Tbsp. salt', '2 cups coarse-ground grits',...</td>\n      <td>In a large bowl, combine the peaches, sugar, l...</td>\n      <td>https://www.saveur.com/app/uploads/2019/02/08/...</td>\n      <td>saveur.com</td>\n      <td>[{'class': ['navbar-brand'], 'href': 'https://...</td>\n    </tr>\n    <tr>\n      <th>853</th>\n      <td>853</td>\n      <td>Air Fryer Chicken Thighs</td>\n      <td>40</td>\n      <td>24 item(s)</td>\n      <td>['3 1⁄2 sticks (14 oz.) very cold unsalted but...</td>\n      <td>In a small bowl, toss tomatoes, lime juice, ci...</td>\n      <td>https://www.saveur.com/app/uploads/2019/03/18/...</td>\n      <td>saveur.com</td>\n      <td>[{'class': ['navbar-brand'], 'href': 'https://...</td>\n    </tr>\n  </tbody>\n</table>\n<p>854 rows × 9 columns</p>\n</div>"
     },
     "execution_count": 3,
     "metadata": {},
     "output_type": "execute_result"
    }
   ],
   "source": [
    "df = pd.read_csv('/home/ashvinee/Documents/Ferrato/Data/breakfast_ingredients_835_all.csv')\n",
    "df\n"
   ],
   "metadata": {
    "collapsed": false,
    "pycharm": {
     "name": "#%%\n"
    }
   }
  },
  {
   "cell_type": "code",
   "execution_count": 4,
   "outputs": [],
   "source": [
    "alingdf = df['Ingredients']\n",
    "alingg = df_all_ings['In']\n",
    "\n"
   ],
   "metadata": {
    "collapsed": false,
    "pycharm": {
     "name": "#%%\n"
    }
   }
  },
  {
   "cell_type": "code",
   "execution_count": 5,
   "outputs": [
    {
     "data": {
      "text/plain": "\"['1 cup regular rice ( + 1 cup parboiled rice or 2 cups idli rice or 2 cups parboiled rice)', '½ cup whole or split urad dal (- 120 grams whole or split urad dal (husked black gram))', '¼ cup thick poha (- 20 grams (flattened rice))', '¼ teaspoon fenugreek seeds ((methi seeds))', '2 cups water (- for soaking rice)', '1 cup water (- for soaking urad dal)', '½ cup water (- for grinding urad dal or add as required)', '¾ to 1 cup water (- for grinding rice or add as required)', '1 teaspoon rock salt ((edible and food grade) or sea salt)', 'oil (- as required to apply to the idli moulds)', '2 to 2.5 cups water (- for steaming idli)']\""
     },
     "execution_count": 5,
     "metadata": {},
     "output_type": "execute_result"
    }
   ],
   "source": [
    "df['Ingredients'][0]\n",
    "\n"
   ],
   "metadata": {
    "collapsed": false,
    "pycharm": {
     "name": "#%%\n"
    }
   }
  },
  {
   "cell_type": "code",
   "execution_count": 6,
   "outputs": [
    {
     "data": {
      "text/plain": "(854, 3500)"
     },
     "execution_count": 6,
     "metadata": {},
     "output_type": "execute_result"
    }
   ],
   "source": [
    "len(alingdf), len(alingg)"
   ],
   "metadata": {
    "collapsed": false,
    "pycharm": {
     "name": "#%%\n"
    }
   }
  },
  {
   "cell_type": "code",
   "execution_count": 7,
   "outputs": [],
   "source": [
    "import re\n",
    "\n",
    "alingdf = df['Ingredients']\n",
    "alingg = df_all_ings['In']\n",
    "ing_arrs = np.zeros((len(alingdf), len(alingg)))\n",
    "\n",
    "for inx,ingw in enumerate(alingdf):\n",
    "  counter=0\n",
    "  for words in alingg:\n",
    "    #print(words)\n",
    "    in_se = re.compile(words)\n",
    "    m = in_se.search(ingw)\n",
    "    if m is not None and (m.end()-m.start()) == len(words):\n",
    "      ing_arrs[inx][counter] = 1\n",
    "    else:\n",
    "      ing_arrs[inx][counter] = 0\n",
    "    counter+=1"
   ],
   "metadata": {
    "collapsed": false,
    "pycharm": {
     "name": "#%%\n"
    }
   }
  },
  {
   "cell_type": "code",
   "execution_count": 8,
   "outputs": [],
   "source": [
    "ing_arr = ing_arrs.astype(int)"
   ],
   "metadata": {
    "collapsed": false,
    "pycharm": {
     "name": "#%%\n"
    }
   }
  },
  {
   "cell_type": "code",
   "execution_count": 9,
   "outputs": [],
   "source": [
    "from collections import defaultdict\n",
    "\n",
    "ing_data = defaultdict(lambda: \"Not Present\")\n",
    "\n",
    "for indx, name in enumerate(alingg):\n",
    "  ing_data.update({name: ing_arr[:,indx]})"
   ],
   "metadata": {
    "collapsed": false,
    "pycharm": {
     "name": "#%%\n"
    }
   }
  },
  {
   "cell_type": "code",
   "execution_count": 31,
   "outputs": [],
   "source": [
    "ing_df = pd.DataFrame(ing_data)"
   ],
   "metadata": {
    "collapsed": false,
    "pycharm": {
     "name": "#%%\n"
    }
   }
  },
  {
   "cell_type": "code",
   "execution_count": 32,
   "outputs": [
    {
     "data": {
      "text/plain": "     salt  pepper  butter  garlic  sugar  flour  onion  olive oil  water  \\\n0       1       0       0       0      0      0      0          0      1   \n1       1       0       0       0      0      0      1          0      1   \n2       1       1       0       1      0      0      0          0      1   \n3       1       0       0       0      0      0      0          0      1   \n4       1       0       0       0      1      0      1          0      1   \n..    ...     ...     ...     ...    ...    ...    ...        ...    ...   \n849     0       0       1       0      0      1      0          0      0   \n850     1       1       1       1      0      0      1          0      0   \n851     1       0       1       0      1      1      0          0      0   \n852     1       0       0       1      0      0      0          0      0   \n853     1       0       1       0      1      1      0          0      0   \n\n     ground  ...  cooked meatballs  beef sausage  mulberries  \\\n0         0  ...                 0             0           0   \n1         1  ...                 0             0           0   \n2         0  ...                 0             0           0   \n3         0  ...                 0             0           0   \n4         0  ...                 0             0           0   \n..      ...  ...               ...           ...         ...   \n849       0  ...                 0             0           0   \n850       1  ...                 0             0           0   \n851       1  ...                 0             0           0   \n852       1  ...                 0             0           0   \n853       0  ...                 0             0           0   \n\n     fine egg noodles  linguica  poblano chilies  crystal hot sauce  \\\n0                   0         0                0                  0   \n1                   0         0                0                  0   \n2                   0         0                0                  0   \n3                   0         0                0                  0   \n4                   0         0                0                  0   \n..                ...       ...              ...                ...   \n849                 0         0                0                  0   \n850                 0         0                0                  0   \n851                 0         0                0                  0   \n852                 0         0                0                  0   \n853                 0         0                0                  0   \n\n     watercress leaves  emerils essence  corn flakes cereal  \n0                    0                0                   0  \n1                    0                0                   0  \n2                    0                0                   0  \n3                    0                0                   0  \n4                    0                0                   0  \n..                 ...              ...                 ...  \n849                  0                0                   0  \n850                  0                0                   0  \n851                  0                0                   0  \n852                  0                0                   0  \n853                  0                0                   0  \n\n[854 rows x 3500 columns]",
      "text/html": "<div>\n<style scoped>\n    .dataframe tbody tr th:only-of-type {\n        vertical-align: middle;\n    }\n\n    .dataframe tbody tr th {\n        vertical-align: top;\n    }\n\n    .dataframe thead th {\n        text-align: right;\n    }\n</style>\n<table border=\"1\" class=\"dataframe\">\n  <thead>\n    <tr style=\"text-align: right;\">\n      <th></th>\n      <th>salt</th>\n      <th>pepper</th>\n      <th>butter</th>\n      <th>garlic</th>\n      <th>sugar</th>\n      <th>flour</th>\n      <th>onion</th>\n      <th>olive oil</th>\n      <th>water</th>\n      <th>ground</th>\n      <th>...</th>\n      <th>cooked meatballs</th>\n      <th>beef sausage</th>\n      <th>mulberries</th>\n      <th>fine egg noodles</th>\n      <th>linguica</th>\n      <th>poblano chilies</th>\n      <th>crystal hot sauce</th>\n      <th>watercress leaves</th>\n      <th>emerils essence</th>\n      <th>corn flakes cereal</th>\n    </tr>\n  </thead>\n  <tbody>\n    <tr>\n      <th>0</th>\n      <td>1</td>\n      <td>0</td>\n      <td>0</td>\n      <td>0</td>\n      <td>0</td>\n      <td>0</td>\n      <td>0</td>\n      <td>0</td>\n      <td>1</td>\n      <td>0</td>\n      <td>...</td>\n      <td>0</td>\n      <td>0</td>\n      <td>0</td>\n      <td>0</td>\n      <td>0</td>\n      <td>0</td>\n      <td>0</td>\n      <td>0</td>\n      <td>0</td>\n      <td>0</td>\n    </tr>\n    <tr>\n      <th>1</th>\n      <td>1</td>\n      <td>0</td>\n      <td>0</td>\n      <td>0</td>\n      <td>0</td>\n      <td>0</td>\n      <td>1</td>\n      <td>0</td>\n      <td>1</td>\n      <td>1</td>\n      <td>...</td>\n      <td>0</td>\n      <td>0</td>\n      <td>0</td>\n      <td>0</td>\n      <td>0</td>\n      <td>0</td>\n      <td>0</td>\n      <td>0</td>\n      <td>0</td>\n      <td>0</td>\n    </tr>\n    <tr>\n      <th>2</th>\n      <td>1</td>\n      <td>1</td>\n      <td>0</td>\n      <td>1</td>\n      <td>0</td>\n      <td>0</td>\n      <td>0</td>\n      <td>0</td>\n      <td>1</td>\n      <td>0</td>\n      <td>...</td>\n      <td>0</td>\n      <td>0</td>\n      <td>0</td>\n      <td>0</td>\n      <td>0</td>\n      <td>0</td>\n      <td>0</td>\n      <td>0</td>\n      <td>0</td>\n      <td>0</td>\n    </tr>\n    <tr>\n      <th>3</th>\n      <td>1</td>\n      <td>0</td>\n      <td>0</td>\n      <td>0</td>\n      <td>0</td>\n      <td>0</td>\n      <td>0</td>\n      <td>0</td>\n      <td>1</td>\n      <td>0</td>\n      <td>...</td>\n      <td>0</td>\n      <td>0</td>\n      <td>0</td>\n      <td>0</td>\n      <td>0</td>\n      <td>0</td>\n      <td>0</td>\n      <td>0</td>\n      <td>0</td>\n      <td>0</td>\n    </tr>\n    <tr>\n      <th>4</th>\n      <td>1</td>\n      <td>0</td>\n      <td>0</td>\n      <td>0</td>\n      <td>1</td>\n      <td>0</td>\n      <td>1</td>\n      <td>0</td>\n      <td>1</td>\n      <td>0</td>\n      <td>...</td>\n      <td>0</td>\n      <td>0</td>\n      <td>0</td>\n      <td>0</td>\n      <td>0</td>\n      <td>0</td>\n      <td>0</td>\n      <td>0</td>\n      <td>0</td>\n      <td>0</td>\n    </tr>\n    <tr>\n      <th>...</th>\n      <td>...</td>\n      <td>...</td>\n      <td>...</td>\n      <td>...</td>\n      <td>...</td>\n      <td>...</td>\n      <td>...</td>\n      <td>...</td>\n      <td>...</td>\n      <td>...</td>\n      <td>...</td>\n      <td>...</td>\n      <td>...</td>\n      <td>...</td>\n      <td>...</td>\n      <td>...</td>\n      <td>...</td>\n      <td>...</td>\n      <td>...</td>\n      <td>...</td>\n      <td>...</td>\n    </tr>\n    <tr>\n      <th>849</th>\n      <td>0</td>\n      <td>0</td>\n      <td>1</td>\n      <td>0</td>\n      <td>0</td>\n      <td>1</td>\n      <td>0</td>\n      <td>0</td>\n      <td>0</td>\n      <td>0</td>\n      <td>...</td>\n      <td>0</td>\n      <td>0</td>\n      <td>0</td>\n      <td>0</td>\n      <td>0</td>\n      <td>0</td>\n      <td>0</td>\n      <td>0</td>\n      <td>0</td>\n      <td>0</td>\n    </tr>\n    <tr>\n      <th>850</th>\n      <td>1</td>\n      <td>1</td>\n      <td>1</td>\n      <td>1</td>\n      <td>0</td>\n      <td>0</td>\n      <td>1</td>\n      <td>0</td>\n      <td>0</td>\n      <td>1</td>\n      <td>...</td>\n      <td>0</td>\n      <td>0</td>\n      <td>0</td>\n      <td>0</td>\n      <td>0</td>\n      <td>0</td>\n      <td>0</td>\n      <td>0</td>\n      <td>0</td>\n      <td>0</td>\n    </tr>\n    <tr>\n      <th>851</th>\n      <td>1</td>\n      <td>0</td>\n      <td>1</td>\n      <td>0</td>\n      <td>1</td>\n      <td>1</td>\n      <td>0</td>\n      <td>0</td>\n      <td>0</td>\n      <td>1</td>\n      <td>...</td>\n      <td>0</td>\n      <td>0</td>\n      <td>0</td>\n      <td>0</td>\n      <td>0</td>\n      <td>0</td>\n      <td>0</td>\n      <td>0</td>\n      <td>0</td>\n      <td>0</td>\n    </tr>\n    <tr>\n      <th>852</th>\n      <td>1</td>\n      <td>0</td>\n      <td>0</td>\n      <td>1</td>\n      <td>0</td>\n      <td>0</td>\n      <td>0</td>\n      <td>0</td>\n      <td>0</td>\n      <td>1</td>\n      <td>...</td>\n      <td>0</td>\n      <td>0</td>\n      <td>0</td>\n      <td>0</td>\n      <td>0</td>\n      <td>0</td>\n      <td>0</td>\n      <td>0</td>\n      <td>0</td>\n      <td>0</td>\n    </tr>\n    <tr>\n      <th>853</th>\n      <td>1</td>\n      <td>0</td>\n      <td>1</td>\n      <td>0</td>\n      <td>1</td>\n      <td>1</td>\n      <td>0</td>\n      <td>0</td>\n      <td>0</td>\n      <td>0</td>\n      <td>...</td>\n      <td>0</td>\n      <td>0</td>\n      <td>0</td>\n      <td>0</td>\n      <td>0</td>\n      <td>0</td>\n      <td>0</td>\n      <td>0</td>\n      <td>0</td>\n      <td>0</td>\n    </tr>\n  </tbody>\n</table>\n<p>854 rows × 3500 columns</p>\n</div>"
     },
     "execution_count": 32,
     "metadata": {},
     "output_type": "execute_result"
    }
   ],
   "source": [
    "ing_df"
   ],
   "metadata": {
    "collapsed": false,
    "pycharm": {
     "name": "#%%\n"
    }
   }
  },
  {
   "cell_type": "code",
   "execution_count": 37,
   "outputs": [],
   "source": [
    "ing_df.insert(0, 'Title', df['Title'].tolist())\n",
    "\n"
   ],
   "metadata": {
    "collapsed": false,
    "pycharm": {
     "name": "#%%\n"
    }
   }
  },
  {
   "cell_type": "code",
   "execution_count": 33,
   "outputs": [],
   "source": [
    "co = ['Indian'] * 136 + ['Non-Indian'] * (854-136)"
   ],
   "metadata": {
    "collapsed": false,
    "pycharm": {
     "name": "#%%\n"
    }
   }
  },
  {
   "cell_type": "code",
   "execution_count": 34,
   "outputs": [],
   "source": [
    "ing_df.insert(0, 'Dish Type', co)\n"
   ],
   "metadata": {
    "collapsed": false,
    "pycharm": {
     "name": "#%%\n"
    }
   }
  },
  {
   "cell_type": "code",
   "execution_count": 35,
   "outputs": [],
   "source": [
    "ing_df.insert(0, 'Total Time', df['Total_time'].tolist())\n"
   ],
   "metadata": {
    "collapsed": false,
    "pycharm": {
     "name": "#%%\n"
    }
   }
  },
  {
   "cell_type": "code",
   "execution_count": 38,
   "outputs": [
    {
     "data": {
      "text/plain": "                                       Title  Total Time   Dish Type  salt  \\\n0    Idli Recipe | Idli Batter for Soft Idli         565      Indian     1   \n1                              Sambar Recipe          45      Indian     1   \n2                     Coconut Chutney Recipe          15      Indian     1   \n3    Idli Recipe | Idli Batter for Soft Idli         565      Indian     1   \n4                                Masala Dosa         570      Indian     1   \n..                                       ...         ...         ...   ...   \n849            Air Fryer Frozen French Fries          60  Non-Indian     0   \n850               Lemon Air Fryer Broccolini          60  Non-Indian     1   \n851               Lemon Air Fryer Broccolini         482  Non-Indian     1   \n852                 Air Fryer Chicken Thighs         482  Non-Indian     1   \n853                 Air Fryer Chicken Thighs          40  Non-Indian     1   \n\n     pepper  butter  garlic  sugar  flour  onion  ...  cooked meatballs  \\\n0         0       0       0      0      0      0  ...                 0   \n1         0       0       0      0      0      1  ...                 0   \n2         1       0       1      0      0      0  ...                 0   \n3         0       0       0      0      0      0  ...                 0   \n4         0       0       0      1      0      1  ...                 0   \n..      ...     ...     ...    ...    ...    ...  ...               ...   \n849       0       1       0      0      1      0  ...                 0   \n850       1       1       1      0      0      1  ...                 0   \n851       0       1       0      1      1      0  ...                 0   \n852       0       0       1      0      0      0  ...                 0   \n853       0       1       0      1      1      0  ...                 0   \n\n     beef sausage  mulberries  fine egg noodles  linguica  poblano chilies  \\\n0               0           0                 0         0                0   \n1               0           0                 0         0                0   \n2               0           0                 0         0                0   \n3               0           0                 0         0                0   \n4               0           0                 0         0                0   \n..            ...         ...               ...       ...              ...   \n849             0           0                 0         0                0   \n850             0           0                 0         0                0   \n851             0           0                 0         0                0   \n852             0           0                 0         0                0   \n853             0           0                 0         0                0   \n\n     crystal hot sauce  watercress leaves  emerils essence  corn flakes cereal  \n0                    0                  0                0                   0  \n1                    0                  0                0                   0  \n2                    0                  0                0                   0  \n3                    0                  0                0                   0  \n4                    0                  0                0                   0  \n..                 ...                ...              ...                 ...  \n849                  0                  0                0                   0  \n850                  0                  0                0                   0  \n851                  0                  0                0                   0  \n852                  0                  0                0                   0  \n853                  0                  0                0                   0  \n\n[854 rows x 3503 columns]",
      "text/html": "<div>\n<style scoped>\n    .dataframe tbody tr th:only-of-type {\n        vertical-align: middle;\n    }\n\n    .dataframe tbody tr th {\n        vertical-align: top;\n    }\n\n    .dataframe thead th {\n        text-align: right;\n    }\n</style>\n<table border=\"1\" class=\"dataframe\">\n  <thead>\n    <tr style=\"text-align: right;\">\n      <th></th>\n      <th>Title</th>\n      <th>Total Time</th>\n      <th>Dish Type</th>\n      <th>salt</th>\n      <th>pepper</th>\n      <th>butter</th>\n      <th>garlic</th>\n      <th>sugar</th>\n      <th>flour</th>\n      <th>onion</th>\n      <th>...</th>\n      <th>cooked meatballs</th>\n      <th>beef sausage</th>\n      <th>mulberries</th>\n      <th>fine egg noodles</th>\n      <th>linguica</th>\n      <th>poblano chilies</th>\n      <th>crystal hot sauce</th>\n      <th>watercress leaves</th>\n      <th>emerils essence</th>\n      <th>corn flakes cereal</th>\n    </tr>\n  </thead>\n  <tbody>\n    <tr>\n      <th>0</th>\n      <td>Idli Recipe | Idli Batter for Soft Idli</td>\n      <td>565</td>\n      <td>Indian</td>\n      <td>1</td>\n      <td>0</td>\n      <td>0</td>\n      <td>0</td>\n      <td>0</td>\n      <td>0</td>\n      <td>0</td>\n      <td>...</td>\n      <td>0</td>\n      <td>0</td>\n      <td>0</td>\n      <td>0</td>\n      <td>0</td>\n      <td>0</td>\n      <td>0</td>\n      <td>0</td>\n      <td>0</td>\n      <td>0</td>\n    </tr>\n    <tr>\n      <th>1</th>\n      <td>Sambar Recipe</td>\n      <td>45</td>\n      <td>Indian</td>\n      <td>1</td>\n      <td>0</td>\n      <td>0</td>\n      <td>0</td>\n      <td>0</td>\n      <td>0</td>\n      <td>1</td>\n      <td>...</td>\n      <td>0</td>\n      <td>0</td>\n      <td>0</td>\n      <td>0</td>\n      <td>0</td>\n      <td>0</td>\n      <td>0</td>\n      <td>0</td>\n      <td>0</td>\n      <td>0</td>\n    </tr>\n    <tr>\n      <th>2</th>\n      <td>Coconut Chutney Recipe</td>\n      <td>15</td>\n      <td>Indian</td>\n      <td>1</td>\n      <td>1</td>\n      <td>0</td>\n      <td>1</td>\n      <td>0</td>\n      <td>0</td>\n      <td>0</td>\n      <td>...</td>\n      <td>0</td>\n      <td>0</td>\n      <td>0</td>\n      <td>0</td>\n      <td>0</td>\n      <td>0</td>\n      <td>0</td>\n      <td>0</td>\n      <td>0</td>\n      <td>0</td>\n    </tr>\n    <tr>\n      <th>3</th>\n      <td>Idli Recipe | Idli Batter for Soft Idli</td>\n      <td>565</td>\n      <td>Indian</td>\n      <td>1</td>\n      <td>0</td>\n      <td>0</td>\n      <td>0</td>\n      <td>0</td>\n      <td>0</td>\n      <td>0</td>\n      <td>...</td>\n      <td>0</td>\n      <td>0</td>\n      <td>0</td>\n      <td>0</td>\n      <td>0</td>\n      <td>0</td>\n      <td>0</td>\n      <td>0</td>\n      <td>0</td>\n      <td>0</td>\n    </tr>\n    <tr>\n      <th>4</th>\n      <td>Masala Dosa</td>\n      <td>570</td>\n      <td>Indian</td>\n      <td>1</td>\n      <td>0</td>\n      <td>0</td>\n      <td>0</td>\n      <td>1</td>\n      <td>0</td>\n      <td>1</td>\n      <td>...</td>\n      <td>0</td>\n      <td>0</td>\n      <td>0</td>\n      <td>0</td>\n      <td>0</td>\n      <td>0</td>\n      <td>0</td>\n      <td>0</td>\n      <td>0</td>\n      <td>0</td>\n    </tr>\n    <tr>\n      <th>...</th>\n      <td>...</td>\n      <td>...</td>\n      <td>...</td>\n      <td>...</td>\n      <td>...</td>\n      <td>...</td>\n      <td>...</td>\n      <td>...</td>\n      <td>...</td>\n      <td>...</td>\n      <td>...</td>\n      <td>...</td>\n      <td>...</td>\n      <td>...</td>\n      <td>...</td>\n      <td>...</td>\n      <td>...</td>\n      <td>...</td>\n      <td>...</td>\n      <td>...</td>\n      <td>...</td>\n    </tr>\n    <tr>\n      <th>849</th>\n      <td>Air Fryer Frozen French Fries</td>\n      <td>60</td>\n      <td>Non-Indian</td>\n      <td>0</td>\n      <td>0</td>\n      <td>1</td>\n      <td>0</td>\n      <td>0</td>\n      <td>1</td>\n      <td>0</td>\n      <td>...</td>\n      <td>0</td>\n      <td>0</td>\n      <td>0</td>\n      <td>0</td>\n      <td>0</td>\n      <td>0</td>\n      <td>0</td>\n      <td>0</td>\n      <td>0</td>\n      <td>0</td>\n    </tr>\n    <tr>\n      <th>850</th>\n      <td>Lemon Air Fryer Broccolini</td>\n      <td>60</td>\n      <td>Non-Indian</td>\n      <td>1</td>\n      <td>1</td>\n      <td>1</td>\n      <td>1</td>\n      <td>0</td>\n      <td>0</td>\n      <td>1</td>\n      <td>...</td>\n      <td>0</td>\n      <td>0</td>\n      <td>0</td>\n      <td>0</td>\n      <td>0</td>\n      <td>0</td>\n      <td>0</td>\n      <td>0</td>\n      <td>0</td>\n      <td>0</td>\n    </tr>\n    <tr>\n      <th>851</th>\n      <td>Lemon Air Fryer Broccolini</td>\n      <td>482</td>\n      <td>Non-Indian</td>\n      <td>1</td>\n      <td>0</td>\n      <td>1</td>\n      <td>0</td>\n      <td>1</td>\n      <td>1</td>\n      <td>0</td>\n      <td>...</td>\n      <td>0</td>\n      <td>0</td>\n      <td>0</td>\n      <td>0</td>\n      <td>0</td>\n      <td>0</td>\n      <td>0</td>\n      <td>0</td>\n      <td>0</td>\n      <td>0</td>\n    </tr>\n    <tr>\n      <th>852</th>\n      <td>Air Fryer Chicken Thighs</td>\n      <td>482</td>\n      <td>Non-Indian</td>\n      <td>1</td>\n      <td>0</td>\n      <td>0</td>\n      <td>1</td>\n      <td>0</td>\n      <td>0</td>\n      <td>0</td>\n      <td>...</td>\n      <td>0</td>\n      <td>0</td>\n      <td>0</td>\n      <td>0</td>\n      <td>0</td>\n      <td>0</td>\n      <td>0</td>\n      <td>0</td>\n      <td>0</td>\n      <td>0</td>\n    </tr>\n    <tr>\n      <th>853</th>\n      <td>Air Fryer Chicken Thighs</td>\n      <td>40</td>\n      <td>Non-Indian</td>\n      <td>1</td>\n      <td>0</td>\n      <td>1</td>\n      <td>0</td>\n      <td>1</td>\n      <td>1</td>\n      <td>0</td>\n      <td>...</td>\n      <td>0</td>\n      <td>0</td>\n      <td>0</td>\n      <td>0</td>\n      <td>0</td>\n      <td>0</td>\n      <td>0</td>\n      <td>0</td>\n      <td>0</td>\n      <td>0</td>\n    </tr>\n  </tbody>\n</table>\n<p>854 rows × 3503 columns</p>\n</div>"
     },
     "execution_count": 38,
     "metadata": {},
     "output_type": "execute_result"
    }
   ],
   "source": [
    "ing_df"
   ],
   "metadata": {
    "collapsed": false,
    "pycharm": {
     "name": "#%%\n"
    }
   }
  },
  {
   "cell_type": "code",
   "execution_count": 29,
   "outputs": [],
   "source": [
    "ing_df.to_csv('breakfast_ingredients_835_final3.csv')"
   ],
   "metadata": {
    "collapsed": false,
    "pycharm": {
     "name": "#%%\n"
    }
   }
  },
  {
   "cell_type": "code",
   "execution_count": null,
   "outputs": [],
   "source": [],
   "metadata": {
    "collapsed": false,
    "pycharm": {
     "name": "#%%\n"
    }
   }
  },
  {
   "cell_type": "code",
   "execution_count": 30,
   "outputs": [
    {
     "data": {
      "text/plain": "0      565\n1       45\n2       15\n3      565\n4      570\n      ... \n849     60\n850     60\n851    482\n852    482\n853     40\nName: Total_time, Length: 854, dtype: int64"
     },
     "execution_count": 30,
     "metadata": {},
     "output_type": "execute_result"
    }
   ],
   "source": [
    "df['Total_time']"
   ],
   "metadata": {
    "collapsed": false,
    "pycharm": {
     "name": "#%%\n"
    }
   }
  },
  {
   "cell_type": "code",
   "execution_count": null,
   "outputs": [],
   "source": [
    "match_df = pd.DataFrame({'Title'})"
   ],
   "metadata": {
    "collapsed": false,
    "pycharm": {
     "name": "#%%\n"
    }
   }
  }
 ],
 "metadata": {
  "kernelspec": {
   "display_name": "Python 3",
   "language": "python",
   "name": "python3"
  },
  "language_info": {
   "codemirror_mode": {
    "name": "ipython",
    "version": 3
   },
   "file_extension": ".py",
   "mimetype": "text/x-python",
   "name": "python",
   "nbconvert_exporter": "python",
   "pygments_lexer": "ipython3",
   "version": "3.8.10"
  }
 },
 "nbformat": 4,
 "nbformat_minor": 5
}